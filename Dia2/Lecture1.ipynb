{
 "cells": [
  {
   "cell_type": "code",
   "execution_count": 42,
   "metadata": {
    "slideshow": {
     "slide_type": "skip"
    }
   },
   "outputs": [],
   "source": [
    "library(repr)"
   ]
  },
  {
   "cell_type": "markdown",
   "metadata": {
    "slideshow": {
     "slide_type": "slide"
    }
   },
   "source": [
    "# Simulating random variables"
   ]
  },
  {
   "cell_type": "markdown",
   "metadata": {
    "slideshow": {
     "slide_type": "subslide"
    }
   },
   "source": [
    "## Partitioning uniform random variables\n",
    "\n",
    "How to simulate a discrete random variable, for instance the outcomes of tossing a coin?"
   ]
  },
  {
   "cell_type": "markdown",
   "metadata": {
    "slideshow": {
     "slide_type": "fragment"
    }
   },
   "source": [
    "If $U(0,1)$ is a uniform random variable between 0 and 1, a Bernoulli r.v. can be written as \n",
    "\n",
    "$$X=\\begin{cases}\n",
    "1 & U<p\\\\\n",
    "0 & U\\geq p\n",
    "\\end{cases}$$"
   ]
  },
  {
   "cell_type": "markdown",
   "metadata": {
    "slideshow": {
     "slide_type": "notes"
    }
   },
   "source": [
    "## Partitioning uniform random variables\n",
    "\n",
    "$$\\begin{align*}\n",
    "P(H) & =P(X=1)\\\\\n",
    " & =P(U<p)\\\\\n",
    " & =p\n",
    "\\end{align*}$$"
   ]
  },
  {
   "cell_type": "markdown",
   "metadata": {
    "slideshow": {
     "slide_type": "subslide"
    }
   },
   "source": [
    "## Code in R is just three lines!"
   ]
  },
  {
   "cell_type": "code",
   "execution_count": 117,
   "metadata": {
    "slideshow": {
     "slide_type": "fragment"
    }
   },
   "outputs": [
    {
     "data": {
      "text/html": [
       "TRUE"
      ],
      "text/latex": [
       "TRUE"
      ],
      "text/markdown": [
       "TRUE"
      ],
      "text/plain": [
       "[1] TRUE"
      ]
     },
     "metadata": {},
     "output_type": "display_data"
    }
   ],
   "source": [
    "p<-0.5\n",
    "U<-runif(1,min=0,max=1);\n",
    "X<-U<p\n",
    "X"
   ]
  },
  {
   "cell_type": "markdown",
   "metadata": {
    "slideshow": {
     "slide_type": "subslide"
    }
   },
   "source": [
    "## How to simulate many toin coss experiments?"
   ]
  },
  {
   "cell_type": "markdown",
   "metadata": {
    "slideshow": {
     "slide_type": "subslide"
    }
   },
   "source": [
    "Let's see the large numbers law in action"
   ]
  },
  {
   "cell_type": "code",
   "execution_count": 11,
   "metadata": {
    "slideshow": {
     "slide_type": "fragment"
    }
   },
   "outputs": [],
   "source": [
    "p<-0.5\n",
    "U<-runif(1,min=0,max=1);\n",
    "X<-U<p"
   ]
  },
  {
   "cell_type": "code",
   "execution_count": 124,
   "metadata": {
    "slideshow": {
     "slide_type": "subslide"
    }
   },
   "outputs": [
    {
     "data": {
      "text/html": [
       "1"
      ],
      "text/latex": [
       "1"
      ],
      "text/markdown": [
       "1"
      ],
      "text/plain": [
       "[1] 1"
      ]
     },
     "metadata": {},
     "output_type": "display_data"
    }
   ],
   "source": [
    "\n",
    "sus<-0  #number of heads found in the simulation.\n",
    "p<-0.5\n",
    "U<-runif(1,min=0,max=1);\n",
    "X<-U<p # recall that this will produce true (heads) or false (tails)\n",
    "sus<-sus+X\n",
    "X+1\n",
    " "
   ]
  },
  {
   "cell_type": "code",
   "execution_count": 29,
   "metadata": {
    "collapsed": true,
    "slideshow": {
     "slide_type": "subslide"
    }
   },
   "outputs": [
    {
     "data": {
      "text/html": [
       "1"
      ],
      "text/latex": [
       "1"
      ],
      "text/markdown": [
       "1"
      ],
      "text/plain": [
       "[1] 1"
      ]
     },
     "metadata": {},
     "output_type": "display_data"
    },
    {
     "data": {
      "text/html": [
       "0.385579834226519"
      ],
      "text/latex": [
       "0.385579834226519"
      ],
      "text/markdown": [
       "0.385579834226519"
      ],
      "text/plain": [
       "[1] 0.3855798"
      ]
     },
     "metadata": {},
     "output_type": "display_data"
    }
   ],
   "source": [
    "n<-1000 #number of simulations (toin coss)\n",
    "\n",
    "sus<-0  #number of heads found in the simulation.\n",
    "p<-0.5\n",
    "\n",
    "# This section seems to be repeating\n",
    "U<-runif(1,min=0,max=1);\n",
    "X<-U<p\n",
    "sus<-sus+X\n",
    "# end of the loop\n"
   ]
  },
  {
   "cell_type": "code",
   "execution_count": 128,
   "metadata": {
    "slideshow": {
     "slide_type": "subslide"
    }
   },
   "outputs": [],
   "source": [
    "n<-100 #number of simulations (toin coss)\n",
    "\n",
    "sus<-0  #number of heads found in the simulation.\n",
    "p<-0.5\n",
    "\n",
    "frh<-numeric(n) # recording every update on proportion of heads found.\n",
    "for (i in 1:n)\n",
    "{\n",
    "    # This section seems to be repeating\n",
    "    U<-runif(1,min=0,max=1);\n",
    "    X<-U<p\n",
    "    sus<-sus+X\n",
    "    frh[i]<-sus/i\n",
    "    # end of the loop\n",
    "}"
   ]
  },
  {
   "cell_type": "code",
   "execution_count": 129,
   "metadata": {
    "cell_style": "center",
    "slideshow": {
     "slide_type": "subslide"
    }
   },
   "outputs": [
    {
     "data": {
      "image/png": "[encoded data removed]",
      "text/plain": [
       "plot without title"
      ]
     },
     "metadata": {},
     "output_type": "display_data"
    }
   ],
   "source": [
    "# Now lets plot what we got\n",
    "options(repr.plot.width=4, repr.plot.height=3)\n",
    "plot(1:n,frh)\n"
   ]
  },
  {
   "cell_type": "markdown",
   "metadata": {
    "slideshow": {
     "slide_type": "subslide"
    }
   },
   "source": [
    "## Binomial r.v. = adding Bernoulli ones\n",
    "\n",
    "Generate a Binomial random variable with parameters $n=50$ and $p=0.2$."
   ]
  },
  {
   "cell_type": "markdown",
   "metadata": {
    "slideshow": {
     "slide_type": "subslide"
    }
   },
   "source": [
    "**Lemma.** If $X_1$, $X_2$,..., $X_n$ are independent Bernoulli r.v., then $X=\\sum_{i=1}^{n}{X_i}$ has a Binomial distribution"
   ]
  },
  {
   "cell_type": "code",
   "execution_count": 150,
   "metadata": {
    "slideshow": {
     "slide_type": "fragment"
    }
   },
   "outputs": [
    {
     "data": {
      "text/html": [
       "0"
      ],
      "text/latex": [
       "0"
      ],
      "text/markdown": [
       "0"
      ],
      "text/plain": [
       "[1] 0"
      ]
     },
     "metadata": {},
     "output_type": "display_data"
    }
   ],
   "source": [
    "p<-0.2 # Bernoulli parameter\n",
    "n<-5 # Number of Bernoulli r.v.'s to sum\n",
    "U<-runif(n,min=0,max=1)\n",
    "X<-sum(U<p);\n",
    "X"
   ]
  },
  {
   "cell_type": "markdown",
   "metadata": {
    "slideshow": {
     "slide_type": "subslide"
    }
   },
   "source": [
    "Let's perform several experiments"
   ]
  },
  {
   "cell_type": "code",
   "execution_count": 156,
   "metadata": {
    "slideshow": {
     "slide_type": "fragment"
    }
   },
   "outputs": [],
   "source": [
    "p<-0.2 # Bernoulli parameter\n",
    "n<-100 # Number of Bernoulli r.v.'s to sum\n",
    "m<-10 # Number of experiments to perform\n",
    "\n",
    "frh<-numeric(m)\n",
    "for (i in 1:m)\n",
    "{\n",
    "    # Let's repeat this part\n",
    "    U<-runif(n,min=0,max=1) \n",
    "    X<-sum(U<p);\n",
    "    frh[i]<-X;\n",
    "}\n"
   ]
  },
  {
   "cell_type": "code",
   "execution_count": 158,
   "metadata": {
    "slideshow": {
     "slide_type": "subslide"
    }
   },
   "outputs": [
    {
     "data": {
      "text/html": [
       "21.4"
      ],
      "text/latex": [
       "21.4"
      ],
      "text/markdown": [
       "21.4"
      ],
      "text/plain": [
       "[1] 21.4"
      ]
     },
     "metadata": {},
     "output_type": "display_data"
    },
    {
     "data": {
      "image/png": "[encoded data removed]",
      "text/plain": [
       "Plot with title “Histogram of frh”"
      ]
     },
     "metadata": {},
     "output_type": "display_data"
    }
   ],
   "source": [
    "hist(frh,freq = F)\n",
    "mean(frh)\n",
    "#curve(dbinom(x,n,p),0,n)"
   ]
  },
  {
   "cell_type": "markdown",
   "metadata": {
    "slideshow": {
     "slide_type": "subslide"
    }
   },
   "source": [
    "## Constructing continous r.v.'s from uniform r.v.'s\n",
    "\n",
    "**Theorem.** Let $U\\sim$ Uniform$(0,1)$ and F be a CDF which is strictly increasing. Also consider a random variable X define as\n",
    "\n",
    "$$X=F^{-1}.$$\n",
    "\n",
    "Then,\n",
    "$$X\\sim F$$"
   ]
  },
  {
   "cell_type": "markdown",
   "metadata": {
    "slideshow": {
     "slide_type": "subslide"
    }
   },
   "source": [
    "**Proof.**\n",
    "$$\\begin{align*}\n",
    "P(X\\leq x)= & P(F^{-1}(U)\\leq x)\\\\\n",
    "= & P(U\\leq F(x))\\\\\n",
    "= & F(x)\n",
    "\\end{align*}$$"
   ]
  },
  {
   "cell_type": "markdown",
   "metadata": {
    "slideshow": {
     "slide_type": "subslide"
    }
   },
   "source": [
    "## Simulating an exponential random variable\n",
    "Generate an exponential random variable"
   ]
  },
  {
   "cell_type": "markdown",
   "metadata": {
    "slideshow": {
     "slide_type": "skip"
    }
   },
   "source": [
    "\\begin{align*}\n",
    "F(x)= & 1-e^{-x}\\\\\n",
    "U\\sim & \\text{Uniform}(0,1)\\\\\n",
    "X= & F^{-1}(U)\\\\\n",
    "= & -\\ln(1-U)\\\\\n",
    "X\\sim & F\n",
    "\\end{align*}"
   ]
  },
  {
   "cell_type": "markdown",
   "metadata": {
    "slideshow": {
     "slide_type": "subslide"
    }
   },
   "source": [
    "## In R is only two lines!"
   ]
  },
  {
   "cell_type": "code",
   "execution_count": 164,
   "metadata": {
    "slideshow": {
     "slide_type": "fragment"
    }
   },
   "outputs": [
    {
     "data": {
      "text/html": [
       "0.274991622037978"
      ],
      "text/latex": [
       "0.274991622037978"
      ],
      "text/markdown": [
       "0.274991622037978"
      ],
      "text/plain": [
       "[1] 0.2749916"
      ]
     },
     "metadata": {},
     "output_type": "display_data"
    }
   ],
   "source": [
    "U<-runif(1000,min=0,max=1)\n",
    "X<--1/2*log(U)\n",
    "var(X)"
   ]
  },
  {
   "cell_type": "markdown",
   "metadata": {
    "slideshow": {
     "slide_type": "subslide"
    }
   },
   "source": [
    "## Comments about the exponential distribution\n",
    "Mean of a exponential r.v.\n",
    "$$E[X]=1/\\lambda$$\n",
    "Moment generating function\n",
    "$$\\phi(t)=\\lambda/(\\lambda-t)$$\n",
    "Computing the second moment\n",
    "$$\\frac{d^2}{dt^2}\\phi(t)|_{t=0}$$"
   ]
  },
  {
   "cell_type": "markdown",
   "metadata": {
    "slideshow": {
     "slide_type": "subslide"
    }
   },
   "source": [
    "Memoryless property?\n",
    "$$\\frac{P\\left\\{X>s+t,X>t\\right\\}}{P\\left\\{X>s\\right\\}}=?$$"
   ]
  },
  {
   "cell_type": "markdown",
   "metadata": {
    "slideshow": {
     "slide_type": "fragment"
    }
   },
   "source": [
    "Hazard rate?\n",
    "$$r(t)=\\frac{f(t)}{1-F(t)}=?$$"
   ]
  },
  {
   "cell_type": "markdown",
   "metadata": {
    "slideshow": {
     "slide_type": "subslide"
    }
   },
   "source": [
    "What is the sum of n i.i.d. exponetial r.v.'s?\n",
    "\n",
    "What is the probability of the minimun in the set $X_1$,$X_2$,...,$X_n$ i.i.d. exponential r.v.'s?"
   ]
  },
  {
   "cell_type": "markdown",
   "metadata": {
    "slideshow": {
     "slide_type": "slide"
    }
   },
   "source": [
    "# The poisson process"
   ]
  },
  {
   "cell_type": "markdown",
   "metadata": {
    "slideshow": {
     "slide_type": "subslide"
    }
   },
   "source": [
    "## dCKE equation\n",
    "\n",
    "$$\\begin{align*}\n",
    "\\partial p(z,t|y,t') & =-\\sum_{i}\\frac{\\partial}{\\partial z_{i}}[A_{i}(z,t)p(z,t|y,t')]\\\\\n",
    " & +\\sum_{i,j}\\frac{1}{2}\\frac{\\partial^{2}}{\\partial z_{i}\\partial z_{j}}[B_{ij}(z,t)p(z,t|y,t')]\\\\\n",
    " & +\\int dx[W(z|x,t)p(x,t|y,t')-W(x|z,t)p(z,t|y,t')]\n",
    "\\end{align*}$$"
   ]
  },
  {
   "cell_type": "markdown",
   "metadata": {
    "slideshow": {
     "slide_type": "subslide"
    }
   },
   "source": [
    "## Pure jump process\n",
    "\n",
    "$$\\partial p(z,t|y,t')=\\int dx[W(z|x,t)p(x,t|y,t')-W(x|z,t)p(z,t|y,t')]$$\n",
    "\n",
    "## Pure jump process integer\n",
    "\n",
    "$$\\partial P(n,t|n',t')=\\sum_{m}[W(n|m,t)P(m,t|n',t')-W(m|n,t)P(n,t|n',t')]$$"
   ]
  },
  {
   "cell_type": "markdown",
   "metadata": {
    "slideshow": {
     "slide_type": "subslide"
    }
   },
   "source": [
    "## Poisson process\n",
    "\n",
    "$W(n+1|n,t)=d$, and $W(n|m,t)=0$\n",
    "\n",
    "$$\\partial P(n,t|n',t')=d[P(n-1,t|n',t')-P(n,t|n',t')]$$"
   ]
  },
  {
   "cell_type": "code",
   "execution_count": null,
   "metadata": {},
   "outputs": [],
   "source": []
  }
 ],
 "metadata": {
  "celltoolbar": "Slideshow",
  "hide_input": false,
  "kernelspec": {
   "display_name": "R",
   "language": "R",
   "name": "ir"
  },
  "language_info": {
   "codemirror_mode": "r",
   "file_extension": ".r",
   "mimetype": "text/x-r-source",
   "name": "R",
   "pygments_lexer": "r",
   "version": "3.5.1"
  }
 },
 "nbformat": 4,
 "nbformat_minor": 2
}
