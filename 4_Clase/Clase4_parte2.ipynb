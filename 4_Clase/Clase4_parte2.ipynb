{
 "cells": [
  {
   "cell_type": "markdown",
   "metadata": {},
   "source": [
    "# <h1> 1. Variable selection"
   ]
  },
  {
   "cell_type": "code",
   "execution_count": 6,
   "metadata": {},
   "outputs": [],
   "source": [
    "cts1<- read.csv(\"wages.csv\")"
   ]
  },
  {
   "cell_type": "code",
   "execution_count": 7,
   "metadata": {},
   "outputs": [],
   "source": [
    "cts<- read.csv(\"counties.csv\")"
   ]
  },
  {
   "cell_type": "markdown",
   "metadata": {},
   "source": [
    "revisar que es compressive sensing\n",
    "\n",
    "https://en.wikipedia.org/wiki/Compressed_sensing"
   ]
  },
  {
   "cell_type": "markdown",
   "metadata": {},
   "source": [
    "### Mallow's $C_p$\n",
    "$$C_p = \\frac{1}{n}(RSS+2p\\sigma^2)$$\n",
    "$C_p$ adiciona la penalidad a medida que el numero de variables aumenta"
   ]
  },
  {
   "cell_type": "code",
   "execution_count": 8,
   "metadata": {},
   "outputs": [],
   "source": [
    "hmod <- lm(earn ~ height, data=cts1)\n"
   ]
  },
  {
   "cell_type": "markdown",
   "metadata": {},
   "source": [
    "### AIC\n",
    "$$AIC=\\frac{2}{n}(p-\\log(likelihood))$$\n",
    "de forma similar a $C_p$ pero puede ser generalizado a modelos no lineales"
   ]
  },
  {
   "cell_type": "code",
   "execution_count": 9,
   "metadata": {},
   "outputs": [
    {
     "data": {
      "text/html": [
       "32341.1899895838"
      ],
      "text/latex": [
       "32341.1899895838"
      ],
      "text/markdown": [
       "32341.1899895838"
      ],
      "text/plain": [
       "[1] 32341.19"
      ]
     },
     "metadata": {},
     "output_type": "display_data"
    }
   ],
   "source": [
    "\n",
    "AIC(hmod)"
   ]
  },
  {
   "cell_type": "code",
   "execution_count": 10,
   "metadata": {},
   "outputs": [
    {
     "data": {
      "text/plain": [
       "\n",
       "Call:\n",
       "lm(formula = earn ~ height, data = cts1)\n",
       "\n",
       "Residuals:\n",
       "   Min     1Q Median     3Q    Max \n",
       "-47903 -19744  -5184  11642 276796 \n",
       "\n",
       "Coefficients:\n",
       "            Estimate Std. Error t value Pr(>|t|)    \n",
       "(Intercept)  -126523      14076  -8.989   <2e-16 ***\n",
       "height          2387        211  11.312   <2e-16 ***\n",
       "---\n",
       "Signif. codes:  0 ‘***’ 0.001 ‘**’ 0.01 ‘*’ 0.05 ‘.’ 0.1 ‘ ’ 1\n",
       "\n",
       "Residual standard error: 29910 on 1377 degrees of freedom\n",
       "Multiple R-squared:  0.08503,\tAdjusted R-squared:  0.08437 \n",
       "F-statistic:   128 on 1 and 1377 DF,  p-value: < 2.2e-16\n"
      ]
     },
     "metadata": {},
     "output_type": "display_data"
    }
   ],
   "source": [
    "summary(hmod)"
   ]
  },
  {
   "cell_type": "markdown",
   "metadata": {},
   "source": [
    "# BIC\n",
    "$$BIC=-2\\log(likelihood))+p\\log(n)$$"
   ]
  },
  {
   "cell_type": "code",
   "execution_count": 11,
   "metadata": {},
   "outputs": [
    {
     "data": {
      "text/html": [
       "32356.8773312171"
      ],
      "text/latex": [
       "32356.8773312171"
      ],
      "text/markdown": [
       "32356.8773312171"
      ],
      "text/plain": [
       "[1] 32356.88"
      ]
     },
     "metadata": {},
     "output_type": "display_data"
    },
    {
     "data": {
      "text/plain": [
       "\n",
       "Call:\n",
       "lm(formula = earn ~ height, data = cts1)\n",
       "\n",
       "Residuals:\n",
       "   Min     1Q Median     3Q    Max \n",
       "-47903 -19744  -5184  11642 276796 \n",
       "\n",
       "Coefficients:\n",
       "            Estimate Std. Error t value Pr(>|t|)    \n",
       "(Intercept)  -126523      14076  -8.989   <2e-16 ***\n",
       "height          2387        211  11.312   <2e-16 ***\n",
       "---\n",
       "Signif. codes:  0 ‘***’ 0.001 ‘**’ 0.01 ‘*’ 0.05 ‘.’ 0.1 ‘ ’ 1\n",
       "\n",
       "Residual standard error: 29910 on 1377 degrees of freedom\n",
       "Multiple R-squared:  0.08503,\tAdjusted R-squared:  0.08437 \n",
       "F-statistic:   128 on 1 and 1377 DF,  p-value: < 2.2e-16\n"
      ]
     },
     "metadata": {},
     "output_type": "display_data"
    }
   ],
   "source": [
    "BIC(hmod)\n",
    "summary(hmod)"
   ]
  },
  {
   "cell_type": "markdown",
   "metadata": {},
   "source": [
    "# Ajuste $R^2$\n",
    "$$ R^2 = 1- \\frac{RSS/(n-p-1)}{TSS/(n-1)}$$"
   ]
  },
  {
   "cell_type": "code",
   "execution_count": 12,
   "metadata": {},
   "outputs": [
    {
     "name": "stderr",
     "output_type": "stream",
     "text": [
      "Installing package into ‘/srv/rlibs’\n",
      "(as ‘lib’ is unspecified)\n"
     ]
    }
   ],
   "source": [
    "install.packages(\"leaps\")\n",
    "library(leaps)"
   ]
  },
  {
   "cell_type": "code",
   "execution_count": 13,
   "metadata": {},
   "outputs": [],
   "source": [
    "subs<- regsubsets(earn ~ ., data=cts1)"
   ]
  },
  {
   "cell_type": "code",
   "execution_count": 14,
   "metadata": {},
   "outputs": [
    {
     "data": {
      "text/plain": [
       "Subset selection object\n",
       "Call: regsubsets.formula(earn ~ ., data = cts1)\n",
       "7 Variables  (and intercept)\n",
       "             Forced in Forced out\n",
       "height           FALSE      FALSE\n",
       "sexmale          FALSE      FALSE\n",
       "racehispanic     FALSE      FALSE\n",
       "raceother        FALSE      FALSE\n",
       "racewhite        FALSE      FALSE\n",
       "ed               FALSE      FALSE\n",
       "age              FALSE      FALSE\n",
       "1 subsets of each size up to 7\n",
       "Selection Algorithm: exhaustive\n",
       "         height sexmale racehispanic raceother racewhite ed  age\n",
       "1  ( 1 ) \" \"    \" \"     \" \"          \" \"       \" \"       \"*\" \" \"\n",
       "2  ( 1 ) \" \"    \"*\"     \" \"          \" \"       \" \"       \"*\" \" \"\n",
       "3  ( 1 ) \" \"    \"*\"     \" \"          \" \"       \" \"       \"*\" \"*\"\n",
       "4  ( 1 ) \"*\"    \"*\"     \" \"          \" \"       \" \"       \"*\" \"*\"\n",
       "5  ( 1 ) \"*\"    \"*\"     \" \"          \" \"       \"*\"       \"*\" \"*\"\n",
       "6  ( 1 ) \"*\"    \"*\"     \"*\"          \" \"       \"*\"       \"*\" \"*\"\n",
       "7  ( 1 ) \"*\"    \"*\"     \"*\"          \"*\"       \"*\"       \"*\" \"*\""
      ]
     },
     "metadata": {},
     "output_type": "display_data"
    }
   ],
   "source": [
    "summary(subs)"
   ]
  },
  {
   "cell_type": "code",
   "execution_count": 15,
   "metadata": {},
   "outputs": [
    {
     "data": {
      "text/html": [
       "<ol class=list-inline>\n",
       "\t<li>0.122124535017864</li>\n",
       "\t<li>0.221675676111106</li>\n",
       "\t<li>0.240921355264815</li>\n",
       "\t<li>0.243884266385282</li>\n",
       "\t<li>0.244815901871826</li>\n",
       "\t<li>0.244420272983125</li>\n",
       "\t<li>0.243871643804605</li>\n",
       "</ol>\n"
      ],
      "text/latex": [
       "\\begin{enumerate*}\n",
       "\\item 0.122124535017864\n",
       "\\item 0.221675676111106\n",
       "\\item 0.240921355264815\n",
       "\\item 0.243884266385282\n",
       "\\item 0.244815901871826\n",
       "\\item 0.244420272983125\n",
       "\\item 0.243871643804605\n",
       "\\end{enumerate*}\n"
      ],
      "text/markdown": [
       "1. 0.122124535017864\n",
       "2. 0.221675676111106\n",
       "3. 0.240921355264815\n",
       "4. 0.243884266385282\n",
       "5. 0.244815901871826\n",
       "6. 0.244420272983125\n",
       "7. 0.243871643804605\n",
       "\n",
       "\n"
      ],
      "text/plain": [
       "[1] 0.1221245 0.2216757 0.2409214 0.2438843 0.2448159 0.2444203 0.2438716"
      ]
     },
     "metadata": {},
     "output_type": "display_data"
    }
   ],
   "source": [
    "summary(subs)$adjr2"
   ]
  },
  {
   "cell_type": "code",
   "execution_count": 16,
   "metadata": {},
   "outputs": [
    {
     "data": {
      "text/html": [
       "<ol class=list-inline>\n",
       "\t<li>223.716018749627</li>\n",
       "\t<li>43.3921520678459</li>\n",
       "\t<li>9.36502395257708</li>\n",
       "\t<li>4.97706285486061</li>\n",
       "\t<li>4.28538856442515</li>\n",
       "\t<li>6.00450865681478</li>\n",
       "\t<li>8</li>\n",
       "</ol>\n"
      ],
      "text/latex": [
       "\\begin{enumerate*}\n",
       "\\item 223.716018749627\n",
       "\\item 43.3921520678459\n",
       "\\item 9.36502395257708\n",
       "\\item 4.97706285486061\n",
       "\\item 4.28538856442515\n",
       "\\item 6.00450865681478\n",
       "\\item 8\n",
       "\\end{enumerate*}\n"
      ],
      "text/markdown": [
       "1. 223.716018749627\n",
       "2. 43.3921520678459\n",
       "3. 9.36502395257708\n",
       "4. 4.97706285486061\n",
       "5. 4.28538856442515\n",
       "6. 6.00450865681478\n",
       "7. 8\n",
       "\n",
       "\n"
      ],
      "text/plain": [
       "[1] 223.716019  43.392152   9.365024   4.977063   4.285389   6.004509   8.000000"
      ]
     },
     "metadata": {},
     "output_type": "display_data"
    }
   ],
   "source": [
    "summary(subs)$cp"
   ]
  },
  {
   "cell_type": "code",
   "execution_count": 17,
   "metadata": {},
   "outputs": [
    {
     "data": {
      "text/html": [
       "<ol class=list-inline>\n",
       "\t<li>-166.158348755441</li>\n",
       "\t<li>-325.909474237733</li>\n",
       "\t<li>-354.210193558623</li>\n",
       "\t<li>-353.377535800108</li>\n",
       "\t<li>-348.852585987963</li>\n",
       "\t<li>-341.905961131</li>\n",
       "\t<li>-334.681382211284</li>\n",
       "</ol>\n"
      ],
      "text/latex": [
       "\\begin{enumerate*}\n",
       "\\item -166.158348755441\n",
       "\\item -325.909474237733\n",
       "\\item -354.210193558623\n",
       "\\item -353.377535800108\n",
       "\\item -348.852585987963\n",
       "\\item -341.905961131\n",
       "\\item -334.681382211284\n",
       "\\end{enumerate*}\n"
      ],
      "text/markdown": [
       "1. -166.158348755441\n",
       "2. -325.909474237733\n",
       "3. -354.210193558623\n",
       "4. -353.377535800108\n",
       "5. -348.852585987963\n",
       "6. -341.905961131\n",
       "7. -334.681382211284\n",
       "\n",
       "\n"
      ],
      "text/plain": [
       "[1] -166.1583 -325.9095 -354.2102 -353.3775 -348.8526 -341.9060 -334.6814"
      ]
     },
     "metadata": {},
     "output_type": "display_data"
    }
   ],
   "source": [
    "summary(subs)$bic"
   ]
  },
  {
   "cell_type": "code",
   "execution_count": 18,
   "metadata": {},
   "outputs": [],
   "source": [
    "mod <- lm(earn ~ poly(age,3),data=cts1)"
   ]
  },
  {
   "cell_type": "code",
   "execution_count": 19,
   "metadata": {},
   "outputs": [
    {
     "data": {
      "text/plain": [
       "\n",
       "Call:\n",
       "lm(formula = earn ~ poly(age, 3), data = cts1)\n",
       "\n",
       "Residuals:\n",
       "   Min     1Q Median     3Q    Max \n",
       "-39859 -18219  -4120  11641 280034 \n",
       "\n",
       "Coefficients:\n",
       "               Estimate Std. Error t value Pr(>|t|)    \n",
       "(Intercept)     32446.3      811.1  40.002  < 2e-16 ***\n",
       "poly(age, 3)1   85866.8    30120.5   2.851  0.00443 ** \n",
       "poly(age, 3)2 -243937.9    30120.5  -8.099 1.21e-15 ***\n",
       "poly(age, 3)3  178818.6    30120.5   5.937 3.68e-09 ***\n",
       "---\n",
       "Signif. codes:  0 ‘***’ 0.001 ‘**’ 0.01 ‘*’ 0.05 ‘.’ 0.1 ‘ ’ 1\n",
       "\n",
       "Residual standard error: 30120 on 1375 degrees of freedom\n",
       "Multiple R-squared:  0.07343,\tAdjusted R-squared:  0.0714 \n",
       "F-statistic: 36.32 on 3 and 1375 DF,  p-value: < 2.2e-16\n"
      ]
     },
     "metadata": {},
     "output_type": "display_data"
    }
   ],
   "source": [
    "summary(mod)"
   ]
  },
  {
   "cell_type": "code",
   "execution_count": 29,
   "metadata": {},
   "outputs": [],
   "source": [
    "library(splines)"
   ]
  },
  {
   "cell_type": "code",
   "execution_count": 30,
   "metadata": {},
   "outputs": [],
   "source": [
    "nsbs <- lm(earn ~ ns(age,knots=c(40,60)),data=cts1)"
   ]
  },
  {
   "cell_type": "code",
   "execution_count": 32,
   "metadata": {},
   "outputs": [
    {
     "data": {
      "text/plain": [
       "\n",
       "Call:\n",
       "lm(formula = earn ~ ns(age, knots = c(40, 60)), data = cts1)\n",
       "\n",
       "Residuals:\n",
       "   Min     1Q Median     3Q    Max \n",
       "-40594 -18465  -4653  11803 279721 \n",
       "\n",
       "Coefficients:\n",
       "                            Estimate Std. Error t value Pr(>|t|)    \n",
       "(Intercept)                     8193       2608   3.142  0.00172 ** \n",
       "ns(age, knots = c(40, 60))1     3172       4110   0.772  0.44036    \n",
       "ns(age, knots = c(40, 60))2    55740       7428   7.504 1.11e-13 ***\n",
       "ns(age, knots = c(40, 60))3    -1693       6520  -0.260  0.79522    \n",
       "---\n",
       "Signif. codes:  0 ‘***’ 0.001 ‘**’ 0.01 ‘*’ 0.05 ‘.’ 0.1 ‘ ’ 1\n",
       "\n",
       "Residual standard error: 30160 on 1375 degrees of freedom\n",
       "Multiple R-squared:  0.0712,\tAdjusted R-squared:  0.06917 \n",
       "F-statistic: 35.13 on 3 and 1375 DF,  p-value: < 2.2e-16\n"
      ]
     },
     "metadata": {},
     "output_type": "display_data"
    }
   ],
   "source": [
    "summary(nsbs)"
   ]
  },
  {
   "cell_type": "markdown",
   "metadata": {},
   "source": []
  }
 ],
 "metadata": {
  "kernelspec": {
   "display_name": "R",
   "language": "R",
   "name": "ir"
  },
  "language_info": {
   "codemirror_mode": "r",
   "file_extension": ".r",
   "mimetype": "text/x-r-source",
   "name": "R",
   "pygments_lexer": "r",
   "version": "3.4.4"
  }
 },
 "nbformat": 4,
 "nbformat_minor": 2
}
